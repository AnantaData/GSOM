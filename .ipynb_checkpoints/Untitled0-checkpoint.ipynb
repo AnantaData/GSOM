{
 "metadata": {
  "name": "",
  "signature": "sha256:24d01740a366c83a5bf9b3b401710ac9ad6de672a0c7e62e85f7c8246ec06bfb"
 },
 "nbformat": 3,
 "nbformat_minor": 0,
 "worksheets": []
}